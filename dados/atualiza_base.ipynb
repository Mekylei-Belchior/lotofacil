{
 "cells": [
  {
   "cell_type": "code",
   "execution_count": null,
   "metadata": {},
   "outputs": [],
   "source": [
    "import pandas as pd\n",
    "pd.set_option('display.max_columns', None)"
   ]
  },
  {
   "cell_type": "code",
   "execution_count": null,
   "metadata": {},
   "outputs": [],
   "source": [
    "from get_resultados import read_all, download_all, check_all, processa_all"
   ]
  },
  {
   "cell_type": "code",
   "execution_count": null,
   "metadata": {},
   "outputs": [],
   "source": [
    "check_all()\n",
    "download_all()\n",
    "df = read_all()\n",
    "df = processa_all(df)\n",
    "df"
   ]
  },
  {
   "cell_type": "code",
   "execution_count": null,
   "metadata": {},
   "outputs": [],
   "source": [
    "df['ds'] = df['dezenasSorteadasOrdemSorteio'].apply(lambda x: ','.join(map(str,sorted(x))))"
   ]
  },
  {
   "cell_type": "code",
   "execution_count": null,
   "metadata": {},
   "outputs": [],
   "source": [
    "dezenasSorteadasOrdemSorteio = pd.DataFrame(df['dezenasSorteadasOrdemSorteio'].tolist(),index=df.index)\n",
    "dezenasSorteadasOrdemSorteio.columns = [ f\"B{i+1}\" for i in dezenasSorteadasOrdemSorteio.columns ]\n",
    "dezenasSorteadasOrdemSorteio"
   ]
  },
  {
   "cell_type": "code",
   "execution_count": null,
   "metadata": {},
   "outputs": [],
   "source": [
    "df.loc[:,:'dezenasSorteadasOrdemSorteio']\n",
    "df.loc[:,'dezenasSorteadasOrdemSorteio':]\n",
    "df = pd.concat([df.loc[:,:'dezenasSorteadasOrdemSorteio'],dezenasSorteadasOrdemSorteio,df.loc[:,'dezenasSorteadasOrdemSorteio':]],axis=1)\n",
    "del df['dezenasSorteadasOrdemSorteio']\n",
    "df\n"
   ]
  },
  {
   "cell_type": "code",
   "execution_count": null,
   "metadata": {},
   "outputs": [],
   "source": [
    "dezenasFaltantes = pd.DataFrame(df['dezenasFaltantes'].tolist(),index=df.index).fillna(0).astype(int)\n",
    "dezenasFaltantes.columns = [ f\"F{i+1}\" for i in dezenasFaltantes.columns ]\n",
    "dezenasFaltantes"
   ]
  },
  {
   "cell_type": "code",
   "execution_count": null,
   "metadata": {},
   "outputs": [],
   "source": [
    "df.loc[:,:'dezenasFaltantes']\n",
    "df.loc[:,'dezenasFaltantes':]\n",
    "df = pd.concat([df.loc[:,:'dezenasFaltantes'],dezenasFaltantes,df.loc[:,'dezenasFaltantes':]],axis=1)\n",
    "del df['dezenasFaltantes']\n",
    "df\n"
   ]
  },
  {
   "cell_type": "code",
   "execution_count": null,
   "metadata": {},
   "outputs": [],
   "source": [
    "df.loc[:,'B1':'B15']"
   ]
  },
  {
   "cell_type": "code",
   "execution_count": null,
   "metadata": {},
   "outputs": [],
   "source": [
    "df.loc[:,'F1':'F10']"
   ]
  },
  {
   "cell_type": "code",
   "execution_count": null,
   "metadata": {},
   "outputs": [],
   "source": [
    "df.reset_index().set_index(['ciclo','jogos','jogo','numero'])"
   ]
  },
  {
   "cell_type": "code",
   "execution_count": null,
   "metadata": {},
   "outputs": [],
   "source": [
    "df.reset_index().rename(\n",
    "    columns={\n",
    "        'numero':'Concurso',\n",
    "        'dataApuracao':'Data Sorteio',\n",
    "        'ganhou':'Ganhou',\n",
    "        'falta':'Falta',\n",
    "        'ciclo':'Ciclo',\n",
    "        'jogos':'Jogos',\n",
    "        'jogo':'Jogo'\n",
    "    }).to_csv('../base/base_dados.csv',index=False)"
   ]
  }
 ],
 "metadata": {
  "interpreter": {
   "hash": "b3ba2566441a7c06988d0923437866b63cedc61552a5af99d1f4fb67d367b25f"
  },
  "kernelspec": {
   "display_name": "Python 3.9.7 ('base')",
   "language": "python",
   "name": "python3"
  },
  "language_info": {
   "codemirror_mode": {
    "name": "ipython",
    "version": 3
   },
   "file_extension": ".py",
   "mimetype": "text/x-python",
   "name": "python",
   "nbconvert_exporter": "python",
   "pygments_lexer": "ipython3",
   "version": "3.9.7"
  },
  "orig_nbformat": 4
 },
 "nbformat": 4,
 "nbformat_minor": 2
}
